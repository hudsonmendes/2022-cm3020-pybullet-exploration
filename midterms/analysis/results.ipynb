{
 "cells": [
  {
   "cell_type": "markdown",
   "metadata": {},
   "source": [
    "## Dependencies"
   ]
  },
  {
   "cell_type": "code",
   "execution_count": 66,
   "metadata": {},
   "outputs": [],
   "source": [
    "import os\n",
    "import pandas as pd\n",
    "import matplotlib.pyplot as plt\n",
    "from matplotlib.ticker import StrMethodFormatter"
   ]
  },
  {
   "cell_type": "markdown",
   "metadata": {},
   "source": [
    "## Data Loading"
   ]
  },
  {
   "cell_type": "code",
   "execution_count": 2,
   "metadata": {},
   "outputs": [],
   "source": [
    "def load_variants_and_summaries(folder: os.PathLike) -> pd.DataFrame:\n",
    "    dfs = []\n",
    "    for root, _, filenames in os.walk(folder):\n",
    "        for filename in filenames:\n",
    "            if filename.endswith('.evo'):\n",
    "                filepath = os.path.join(root, filename)\n",
    "                variant = os.path.dirname(filepath)[len(folder)+1:]\n",
    "                df = pd.read_csv(filepath, sep='\\t')\n",
    "                df = df.set_index('generation_id')\n",
    "                dfs.append((variant, df))\n",
    "    return dict(dfs)"
   ]
  },
  {
   "cell_type": "code",
   "execution_count": 3,
   "metadata": {},
   "outputs": [],
   "source": [
    "summary_per_variant = load_variants_and_summaries(folder='../evolution')"
   ]
  },
  {
   "cell_type": "code",
   "execution_count": 4,
   "metadata": {},
   "outputs": [
    {
     "data": {
      "text/plain": [
       "[('tests', 9)]"
      ]
     },
     "execution_count": 4,
     "metadata": {},
     "output_type": "execute_result"
    }
   ],
   "source": [
    "[(k, len(v)) for (k, v) in summary_per_variant.items()]"
   ]
  },
  {
   "cell_type": "markdown",
   "metadata": {},
   "source": [
    "## Analysis"
   ]
  },
  {
   "cell_type": "markdown",
   "metadata": {},
   "source": [
    "## Probability of Leap"
   ]
  },
  {
   "cell_type": "markdown",
   "metadata": {},
   "source": [
    "### Fitness over Generations"
   ]
  },
  {
   "cell_type": "code",
   "execution_count": 122,
   "metadata": {},
   "outputs": [
    {
     "ename": "TypeError",
     "evalue": "annotate() missing 1 required positional argument: 'text'",
     "output_type": "error",
     "traceback": [
      "\u001b[0;31m---------------------------------------------------------------------------\u001b[0m",
      "\u001b[0;31mTypeError\u001b[0m                                 Traceback (most recent call last)",
      "\u001b[1;32m/Users/hudsonmendes/Workspaces/hudsonmendes-estudos/cm3020-ai/midterms/analysis/results.ipynb Cell 10'\u001b[0m in \u001b[0;36m<cell line: 18>\u001b[0;34m()\u001b[0m\n\u001b[1;32m     <a href='vscode-notebook-cell:/Users/hudsonmendes/Workspaces/hudsonmendes-estudos/cm3020-ai/midterms/analysis/results.ipynb#ch0000014?line=14'>15</a>\u001b[0m     ax\u001b[39m.\u001b[39mset_ylabel(\u001b[39m'\u001b[39m\u001b[39mfitness score (lines) & entropy score (bar)\u001b[39m\u001b[39m'\u001b[39m)\n\u001b[1;32m     <a href='vscode-notebook-cell:/Users/hudsonmendes/Workspaces/hudsonmendes-estudos/cm3020-ai/midterms/analysis/results.ipynb#ch0000014?line=15'>16</a>\u001b[0m     fig\u001b[39m.\u001b[39msubplots_adjust(bottom\u001b[39m=\u001b[39m\u001b[39m0.25\u001b[39m)\n\u001b[0;32m---> <a href='vscode-notebook-cell:/Users/hudsonmendes/Workspaces/hudsonmendes-estudos/cm3020-ai/midterms/analysis/results.ipynb#ch0000014?line=17'>18</a>\u001b[0m plot_fitness_over_generations(df\u001b[39m=\u001b[39;49msummary_per_variant\u001b[39m.\u001b[39;49mget(\u001b[39m'\u001b[39;49m\u001b[39mtests\u001b[39;49m\u001b[39m'\u001b[39;49m))\n",
      "\u001b[1;32m/Users/hudsonmendes/Workspaces/hudsonmendes-estudos/cm3020-ai/midterms/analysis/results.ipynb Cell 10'\u001b[0m in \u001b[0;36mplot_fitness_over_generations\u001b[0;34m(df)\u001b[0m\n\u001b[1;32m      <a href='vscode-notebook-cell:/Users/hudsonmendes/Workspaces/hudsonmendes-estudos/cm3020-ai/midterms/analysis/results.ipynb#ch0000014?line=1'>2</a>\u001b[0m fig, ax \u001b[39m=\u001b[39m plt\u001b[39m.\u001b[39msubplots(figsize\u001b[39m=\u001b[39m(\u001b[39m15\u001b[39m, \u001b[39m5\u001b[39m))\n\u001b[1;32m      <a href='vscode-notebook-cell:/Users/hudsonmendes/Workspaces/hudsonmendes-estudos/cm3020-ai/midterms/analysis/results.ipynb#ch0000014?line=3'>4</a>\u001b[0m ax\u001b[39m.\u001b[39mfill_between(df\u001b[39m.\u001b[39mindex, df\u001b[39m.\u001b[39mdna_pool_entropy, color\u001b[39m=\u001b[39m\u001b[39m'\u001b[39m\u001b[39m#003f5c\u001b[39m\u001b[39m'\u001b[39m, edgecolor\u001b[39m=\u001b[39m\u001b[39m'\u001b[39m\u001b[39m#fff\u001b[39m\u001b[39m'\u001b[39m, label\u001b[39m=\u001b[39m\u001b[39m'\u001b[39m\u001b[39mentropy (dna/pool)\u001b[39m\u001b[39m'\u001b[39m)\n\u001b[0;32m----> <a href='vscode-notebook-cell:/Users/hudsonmendes/Workspaces/hudsonmendes-estudos/cm3020-ai/midterms/analysis/results.ipynb#ch0000014?line=4'>5</a>\u001b[0m ax\u001b[39m.\u001b[39;49mannotate(xy\u001b[39m=\u001b[39;49mdf\u001b[39m.\u001b[39;49mdna_pool_entropy, xytext\u001b[39m=\u001b[39;49m(\u001b[39m-\u001b[39;49m\u001b[39m7\u001b[39;49m,\u001b[39m7\u001b[39;49m), textcoords\u001b[39m=\u001b[39;49m\u001b[39m'\u001b[39;49m\u001b[39moffset points\u001b[39;49m\u001b[39m'\u001b[39;49m)\n\u001b[1;32m      <a href='vscode-notebook-cell:/Users/hudsonmendes/Workspaces/hudsonmendes-estudos/cm3020-ai/midterms/analysis/results.ipynb#ch0000014?line=7'>8</a>\u001b[0m ax\u001b[39m.\u001b[39mfill_between(df\u001b[39m.\u001b[39mindex, df\u001b[39m.\u001b[39mfitness_highest, color\u001b[39m=\u001b[39m\u001b[39m'\u001b[39m\u001b[39m#58508d\u001b[39m\u001b[39m'\u001b[39m, edgecolor\u001b[39m=\u001b[39m\u001b[39m'\u001b[39m\u001b[39m#fff\u001b[39m\u001b[39m'\u001b[39m, label\u001b[39m=\u001b[39m\u001b[39m'\u001b[39m\u001b[39mfitness (highest)\u001b[39m\u001b[39m'\u001b[39m)\n\u001b[1;32m      <a href='vscode-notebook-cell:/Users/hudsonmendes/Workspaces/hudsonmendes-estudos/cm3020-ai/midterms/analysis/results.ipynb#ch0000014?line=8'>9</a>\u001b[0m ax\u001b[39m.\u001b[39mfill_between(df\u001b[39m.\u001b[39mindex, df\u001b[39m.\u001b[39mfitness_p95, color\u001b[39m=\u001b[39m\u001b[39m'\u001b[39m\u001b[39m#bc5090\u001b[39m\u001b[39m'\u001b[39m, edgecolor\u001b[39m=\u001b[39m\u001b[39m'\u001b[39m\u001b[39m#fff\u001b[39m\u001b[39m'\u001b[39m, label\u001b[39m=\u001b[39m\u001b[39m'\u001b[39m\u001b[39mfitness (p95)\u001b[39m\u001b[39m'\u001b[39m)\n",
      "\u001b[0;31mTypeError\u001b[0m: annotate() missing 1 required positional argument: 'text'"
     ]
    },
    {
     "data": {
      "image/png": "[encoded data removed]",
      "text/plain": [
       "<Figure size 1080x360 with 1 Axes>"
      ]
     },
     "metadata": {
      "needs_background": "light"
     },
     "output_type": "display_data"
    }
   ],
   "source": [
    "def plot_fitness_over_generations(df: pd.DataFrame):\n",
    "    def annotated_area(index: pd.Series, values: pd.Series, color: str, label: str):\n",
    "        ax.fill_between(index, values, color=color, edgecolor='#fff', label='entropy (dna/pool)')\n",
    "        for i, v in enumerate(values):\n",
    "            ax.annotate(str(v), xy=(i,v), xytext=(-7,7), textcoords='offset points')\n",
    "\n",
    "    fig, ax = plt.subplots(figsize=(15, 5))\n",
    "    annotated_area(df.index, df.dna_pool_entropy, color='#003f5c', label='entropy (dna/pool)')\n",
    "    annotated_area(df.index, df.fitness_highest, color='#58508d', label='fitness (highest)')\n",
    "    annotated_area(df.index, df.fitness_p95, color='#bc5090', label='fitness (p95)')\n",
    "    annotated_area(df.index, df.fitness_mean, color='#ff636144', label='fitness (mean)')\n",
    "    ax.set_facecolor(\"#eee\")\n",
    "    ax.legend(loc='lower center', bbox_to_anchor=(0.5, -0.3), ncol=4)\n",
    "    ax.grid(True)\n",
    "    ax.set_xlabel('generation')\n",
    "    ax.set_ylabel('fitness score (lines) & entropy score (bar)')\n",
    "    fig.subplots_adjust(bottom=0.25)\n",
    "\n",
    "plot_fitness_over_generations(df=summary_per_variant.get('tests'))"
   ]
  },
  {
   "cell_type": "code",
   "execution_count": null,
   "metadata": {},
   "outputs": [],
   "source": []
  }
 ],
 "metadata": {
  "kernelspec": {
   "display_name": "Python 3.8.7 ('venv': venv)",
   "language": "python",
   "name": "python3"
  },
  "language_info": {
   "codemirror_mode": {
    "name": "ipython",
    "version": 3
   },
   "file_extension": ".py",
   "mimetype": "text/x-python",
   "name": "python",
   "nbconvert_exporter": "python",
   "pygments_lexer": "ipython3",
   "version": "3.8.7"
  },
  "orig_nbformat": 4,
  "vscode": {
   "interpreter": {
    "hash": "3fa1b6076ee3d2dbb2986d830bc37657f202f3025aee25435a3ab2dc9558ab94"
   }
  }
 },
 "nbformat": 4,
 "nbformat_minor": 2
}
