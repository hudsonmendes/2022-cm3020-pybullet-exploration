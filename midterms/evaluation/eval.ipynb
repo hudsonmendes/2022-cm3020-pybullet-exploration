{
 "cells": [
  {
   "cell_type": "markdown",
   "metadata": {},
   "source": [
    "## Dependencies"
   ]
  },
  {
   "cell_type": "code",
   "execution_count": 1,
   "metadata": {},
   "outputs": [],
   "source": [
    "import os\n",
    "import numpy as np\n",
    "import pandas as pd\n",
    "import matplotlib.pyplot as plt"
   ]
  },
  {
   "cell_type": "markdown",
   "metadata": {},
   "source": [
    "## Data Loading"
   ]
  },
  {
   "cell_type": "code",
   "execution_count": null,
   "metadata": {},
   "outputs": [],
   "source": [
    "def load_variants_and_summaries(folder: os.PathLike) -> pd.DataFrame:\n",
    "    dfs = []\n",
    "    for root, _, filenames in os.walk(folder):\n",
    "        for filename in filenames:\n",
    "            if filename.endswith('.evo'):\n",
    "                filepath = os.path.join(root, filename)\n",
    "                variant = os.path.dirname(filepath)[len(folder)+1:]\n",
    "                df = pd.read_csv(filepath, sep='\\t')\n",
    "                df = df.set_index('generation_id')\n",
    "                dfs.append((variant, df))\n",
    "    return dict(dfs)"
   ]
  },
  {
   "cell_type": "code",
   "execution_count": null,
   "metadata": {},
   "outputs": [],
   "source": [
    "summary_per_variant = load_variants_and_summaries(folder='../evolution')"
   ]
  },
  {
   "cell_type": "code",
   "execution_count": null,
   "metadata": {},
   "outputs": [],
   "source": [
    "[(k, len(v)) for (k, v) in summary_per_variant.items()]"
   ]
  },
  {
   "cell_type": "markdown",
   "metadata": {},
   "source": [
    "# Probability of Leap"
   ]
  },
  {
   "cell_type": "code",
   "execution_count": null,
   "metadata": {},
   "outputs": [],
   "source": [
    "def pool_series(ticks, values, fn):\n",
    "    out = []\n",
    "    prev_i = 0\n",
    "    for i in ticks:\n",
    "        section = list(values[prev_i:i])\n",
    "        value = fn(section)\n",
    "        out.append(value)\n",
    "        prev_i = i\n",
    "    return out\n",
    "\n",
    "def max_pool_series(ticks, values):\n",
    "    return pool_series(ticks, values, np.max)\n",
    "\n",
    "def mean_pool_series(ticks, values):\n",
    "    return pool_series(ticks, values, np.mean)"
   ]
  },
  {
   "cell_type": "markdown",
   "metadata": {},
   "source": [
    "## Genetic Material over Generations"
   ]
  },
  {
   "cell_type": "code",
   "execution_count": null,
   "metadata": {},
   "outputs": [],
   "source": [
    "def plot_genetic_material_over_generations(df: pd.DataFrame, figlen: int = 8):\n",
    "    \n",
    "    def annotated_area(ax, ticks, values: pd.Series, color: str, label: str):\n",
    "        values = mean_pool_series(ticks, values)\n",
    "        ax.set_xticks(ticks)\n",
    "        ax.fill_between(ticks, values, color=color, edgecolor='#fff', label=label)\n",
    "        ax.plot(ticks, values, color=\"#ffffff\", marker='o')\n",
    "\n",
    "    def annotated_candles(ax, ticks, highs: pd.Series, lows: pd.Series, color: str, label: str):\n",
    "        highs = mean_pool_series(ticks, highs)\n",
    "        lows = mean_pool_series(ticks, lows)\n",
    "        heights = [highs[i] - lows[i] for i in range(len(highs))]\n",
    "        ax.set_xticks(ticks)\n",
    "        ax.bar(ticks, height=heights, bottom=lows, width=2.5, color=color + 'cc', edgecolor=color, label=label)\n",
    "        for i, h, l in zip(ticks, highs, lows):\n",
    "            ax.text(i, h + 0.15, str(round(h, 2)), ha=\"center\", va=\"center\", bbox=dict(boxstyle=\"round\", fc=\"w\", ec=\"#ccc\", lw=1))\n",
    "            ax.text(i, l - 0.15, str(round(l, 2)), ha=\"center\", va=\"center\", bbox=dict(boxstyle=\"round\", fc=\"w\", ec=\"#ccc\", lw=1))\n",
    "\n",
    "    tickslen = len(df.index)\n",
    "    ticksstep = max(1, int(tickslen / 15))\n",
    "    ticks = np.arange(1, tickslen + 1, ticksstep)\n",
    "    fig, ax = plt.subplots(figsize=(figlen, figlen/2))\n",
    "    annotated_area(ax, ticks, df.entropy_dna_pool, color='#003f5c44', label='entropy (dna)')\n",
    "    annotated_candles(ax, ticks, df.genes_max, df.genes_min, color='#58508d', label='genes')\n",
    "    ax.set_facecolor(\"#eee\")\n",
    "    ax.legend(loc='lower center', bbox_to_anchor=(0.5, -0.3), ncol=4)\n",
    "    ax.grid(True)\n",
    "    ax.set_xlabel('generation')\n",
    "    ax.set_ylabel('gene counts & entropy score')\n",
    "    fig.subplots_adjust(bottom=0.25)\n",
    "    fig.tight_layout()\n",
    "\n",
    "#plot_genetic_material_over_generations(df=summary_per_variant.get('tests'))"
   ]
  },
  {
   "cell_type": "code",
   "execution_count": null,
   "metadata": {},
   "outputs": [],
   "source": [
    "plot_genetic_material_over_generations(df=summary_per_variant.get('atavism=0.0/pmr=0.1/pma=-0.15'))"
   ]
  },
  {
   "cell_type": "code",
   "execution_count": null,
   "metadata": {},
   "outputs": [],
   "source": [
    "plot_genetic_material_over_generations(df=summary_per_variant.get('atavism=0.0/pmr=0.1/pma=-0.05'))"
   ]
  },
  {
   "cell_type": "code",
   "execution_count": null,
   "metadata": {},
   "outputs": [],
   "source": [
    "plot_genetic_material_over_generations(df=summary_per_variant.get('atavism=0.0/pmr=0.1/pma=0.05'))"
   ]
  },
  {
   "cell_type": "code",
   "execution_count": null,
   "metadata": {},
   "outputs": [],
   "source": [
    "plot_genetic_material_over_generations(df=summary_per_variant.get('atavism=0.0/pmr=0.1/pma=0.15'))"
   ]
  },
  {
   "cell_type": "markdown",
   "metadata": {},
   "source": [
    "## Fitness over Generations"
   ]
  },
  {
   "cell_type": "code",
   "execution_count": null,
   "metadata": {},
   "outputs": [],
   "source": [
    "def calculate_leap_series(highs: pd.Series) -> pd.Series:\n",
    "    leaps = []\n",
    "    for i, high in enumerate(highs):\n",
    "        seq = highs[0:i]\n",
    "        leap = 0.\n",
    "        if i > 0 and len(seq) > 0:\n",
    "            max_prev_high = max(seq)\n",
    "            if max_prev_high > 0 and high > max_prev_high:\n",
    "                leap = 1.\n",
    "        leaps.append(leap)\n",
    "    return pd.Series(leaps)"
   ]
  },
  {
   "cell_type": "code",
   "execution_count": null,
   "metadata": {},
   "outputs": [],
   "source": [
    "def plot_fitness_over_generations(df: pd.DataFrame, figlen: int = 8, meanfit_yadjust: int = 0):\n",
    "    from numpy import trapz\n",
    "    def annotated_line(ax, ticks, values: pd.Series, color: str, label: str, ydist: float = None, pool_type: str = 'mean'):\n",
    "        values = mean_pool_series(ticks, values) if pool_type else max_pool_series(ticks, values)\n",
    "        ax.set_xticks(ticks)\n",
    "        ax.plot(ticks, values, marker='o', color=color, label=label)\n",
    "        ydist = max(values) * ydist\n",
    "        for i, v in zip(ticks, values):\n",
    "            ax.text(i, v + ydist, str(round(v, 2)), ha=\"center\", va=\"center\", bbox=dict(boxstyle=\"round\", fc=\"w\", ec=\"#ccc\", lw=1))\n",
    "    def annotated_bar(ax, ticks, values: pd.Series, color: str, label: str, ydist: int):\n",
    "        values = mean_pool_series(ticks, values)\n",
    "        ax.set_xticks(ticks)\n",
    "        ax.bar(ticks, height=values, color=color, edgecolor='#fff', width=5., label=label)\n",
    "        for i, v in zip(ticks, values):\n",
    "            ax.text(i, v + ydist, str(round(v, 2)), ha=\"center\", va=\"center\", bbox=dict(boxstyle=\"round\", fc=\"#ffac00\", ec=\"#ccc\", lw=1))\n",
    "    tickslen = len(df.index)\n",
    "    ticksstep = max(1, int(tickslen / 15))\n",
    "    ticks = np.arange(1, tickslen + 1, ticksstep)\n",
    "    df['leaps'] = calculate_leap_series(df.fitness_mean)\n",
    "    \n",
    "    normalised_leaps = mean_pool_series(ticks, df.leaps)\n",
    "    print(f\"Total Leaps: {len(df[df.leaps > 0])}\")\n",
    "    print(f\"AUC of Lel(k): {trapz(normalised_leaps)}\")\n",
    "    print(f\"Highest Fitness Scores: {float(df.fitness_highest.max())}\")\n",
    "    print(f\"Mean Entropy of DNA Pool: {float(df.entropy_dna_pool.mean())}\")\n",
    "    print(f\"Mean Entropy of Fitness Scores: {float(df.entropy_fitness_scores.mean())}\")\n",
    "\n",
    "    fig, ax = plt.subplots(figsize=(figlen, figlen))\n",
    "    ax.set_facecolor(\"#eee\")\n",
    "    ax.grid(True)\n",
    "    ax.set_xlabel('generation')\n",
    "    ax.set_ylabel('lel(k)')\n",
    "    annotated_bar(ax, ticks, df.leaps, color='#bc509044', label='lel(k)', ydist=0.025)\n",
    "    ax.legend(loc='lower right', bbox_to_anchor=(0.5, -0.125), ncol=4)\n",
    "    \n",
    "    ax2 = ax.twinx()\n",
    "    ax2.set_ylabel('fitness score & entropy score')\n",
    "    annotated_line(ax2, ticks, df.fitness_highest, color='#003f5c', label='fitness (highest)', ydist=0.025, pool_type='max')\n",
    "    annotated_line(ax2, ticks, df.fitness_mean, color='#58508d', label='fitness (mean)', ydist=0.45 + meanfit_yadjust)\n",
    "    ax2.legend(loc='lower left', bbox_to_anchor=(0.5, -0.125), ncol=4)\n",
    "    \n",
    "    fig.subplots_adjust(bottom=0.25)\n",
    "    fig.tight_layout()\n",
    "\n",
    "#plot_fitness_over_generations(df=summary_per_variant.get('tests'))"
   ]
  },
  {
   "cell_type": "code",
   "execution_count": null,
   "metadata": {},
   "outputs": [],
   "source": [
    "plot_fitness_over_generations(df=summary_per_variant.get('atavism=0.0/pmr=0.1/pma=-0.15'), meanfit_yadjust=0.2)"
   ]
  },
  {
   "cell_type": "code",
   "execution_count": null,
   "metadata": {},
   "outputs": [],
   "source": [
    "plot_fitness_over_generations(df=summary_per_variant.get('atavism=0.0/pmr=0.1/pma=-0.05'))"
   ]
  },
  {
   "cell_type": "code",
   "execution_count": null,
   "metadata": {},
   "outputs": [],
   "source": [
    "plot_fitness_over_generations(df=summary_per_variant.get('atavism=0.0/pmr=0.1/pma=0.05'), meanfit_yadjust=-0.35)"
   ]
  },
  {
   "cell_type": "code",
   "execution_count": null,
   "metadata": {},
   "outputs": [],
   "source": [
    "plot_fitness_over_generations(df=summary_per_variant.get('atavism=0.0/pmr=0.1/pma=0.15'))"
   ]
  },
  {
   "cell_type": "code",
   "execution_count": null,
   "metadata": {},
   "outputs": [],
   "source": [
    "plot_fitness_over_generations(df=summary_per_variant.get('atavism=0.0/pmr=0.25/pma=-0.15'), meanfit_yadjust=0.2)"
   ]
  },
  {
   "cell_type": "code",
   "execution_count": null,
   "metadata": {},
   "outputs": [],
   "source": [
    "plot_fitness_over_generations(df=summary_per_variant.get('atavism=0.0/pmr=0.25/pma=-0.05'))"
   ]
  },
  {
   "cell_type": "code",
   "execution_count": null,
   "metadata": {},
   "outputs": [],
   "source": [
    "plot_fitness_over_generations(df=summary_per_variant.get('atavism=0.0/pmr=0.25/pma=0.05'), meanfit_yadjust=-0.375)"
   ]
  },
  {
   "cell_type": "code",
   "execution_count": null,
   "metadata": {},
   "outputs": [],
   "source": [
    "plot_fitness_over_generations(df=summary_per_variant.get('atavism=0.0/pmr=0.25/pma=0.15'), meanfit_yadjust=-0.375)"
   ]
  }
 ],
 "metadata": {
  "kernelspec": {
   "display_name": "Python 3.8.7 ('venv': venv)",
   "language": "python",
   "name": "python3"
  },
  "language_info": {
   "codemirror_mode": {
    "name": "ipython",
    "version": 3
   },
   "file_extension": ".py",
   "mimetype": "text/x-python",
   "name": "python",
   "nbconvert_exporter": "python",
   "pygments_lexer": "ipython3",
   "version": "3.8.7"
  },
  "orig_nbformat": 4,
  "vscode": {
   "interpreter": {
    "hash": "3fa1b6076ee3d2dbb2986d830bc37657f202f3025aee25435a3ab2dc9558ab94"
   }
  }
 },
 "nbformat": 4,
 "nbformat_minor": 2
}
