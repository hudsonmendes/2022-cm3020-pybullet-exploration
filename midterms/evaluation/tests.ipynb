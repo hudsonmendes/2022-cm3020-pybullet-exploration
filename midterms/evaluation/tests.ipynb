{
 "cells": [
  {
   "cell_type": "code",
   "execution_count": null,
   "metadata": {},
   "outputs": [],
   "source": [
    "variants = {\n",
    "    \"expression_threshold\": [0., 0.1, 0.25],\n",
    "    \"point_mutation_rate\": [0.1, 0.25],\n",
    "    \"point_mutation_amount\": [-0.15, -0.05, 0.05, 0.15]\n",
    "}\n",
    "\n",
    "hyperparams = list(variants.keys())"
   ]
  },
  {
   "cell_type": "code",
   "execution_count": null,
   "metadata": {},
   "outputs": [],
   "source": [
    "table = []\n",
    "for v1 in variants[hyperparams[0]]:\n",
    "    for v2 in variants[hyperparams[1]]:\n",
    "        for v3 in variants[hyperparams[2]]:\n",
    "            table.append({\n",
    "                hyperparams[0]: v1,\n",
    "                hyperparams[1]: v2,\n",
    "                hyperparams[2]: v3\n",
    "            })\n",
    "import pandas as pd\n",
    "df = pd.DataFrame(table)\n",
    "df"
   ]
  },
  {
   "cell_type": "code",
   "execution_count": null,
   "metadata": {},
   "outputs": [],
   "source": [
    "group_features = df.expression_threshold.unique()\n",
    "with open(f'tests.sh', 'w+', encoding='utf-8') as fh:\n",
    "    for group_feature in group_features:\n",
    "        fh.write(f\"\"\"\n",
    "# ============================================\n",
    "# Atavism at {round(group_feature * 100., 2)}%\n",
    "# ============================================\"\"\".strip())\n",
    "        gfdf = df[df[hyperparams[0]] == group_feature]\n",
    "        for ix, (v1, v2, v3) in gfdf.iterrows():\n",
    "            fh.write(f\"\"\"\n",
    "python cli.py evolution optimise \\\\\n",
    "    --genesis_filepath \"/Users/hudsonmendes/Workspaces/hudsonmendes-estudos/cm3020-ai/midterms/evolution/genesis.gen\" \\\\\n",
    "    --target_folder \"evolution/atavism={v1}/pmr={v2}/pma={v3}\" \\\\\n",
    "    --n_generations 100 \\\\\n",
    "    --population_size 100 \\\\\n",
    "    --expression_threshold {v1} \\\\\n",
    "    --point_mutation_rate {v2} \\\\\n",
    "    --point_mutation_amount {v3}\\n\"\"\")\n",
    "        fh.write(f\"\\n\")"
   ]
  },
  {
   "cell_type": "code",
   "execution_count": null,
   "metadata": {},
   "outputs": [],
   "source": []
  }
 ],
 "metadata": {
  "kernelspec": {
   "display_name": "Python 3.8.7 ('venv': venv)",
   "language": "python",
   "name": "python3"
  },
  "language_info": {
   "codemirror_mode": {
    "name": "ipython",
    "version": 3
   },
   "file_extension": ".py",
   "mimetype": "text/x-python",
   "name": "python",
   "nbconvert_exporter": "python",
   "pygments_lexer": "ipython3",
   "version": "3.8.7"
  },
  "orig_nbformat": 4,
  "vscode": {
   "interpreter": {
    "hash": "3fa1b6076ee3d2dbb2986d830bc37657f202f3025aee25435a3ab2dc9558ab94"
   }
  }
 },
 "nbformat": 4,
 "nbformat_minor": 2
}
